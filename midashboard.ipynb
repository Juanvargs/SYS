{
  "nbformat": 4,
  "nbformat_minor": 0,
  "metadata": {
    "colab": {
      "private_outputs": true,
      "provenance": [],
      "authorship_tag": "ABX9TyNKE7BM6ToKSCstq9Ubv9U0",
      "include_colab_link": true
    },
    "kernelspec": {
      "name": "python3",
      "display_name": "Python 3"
    },
    "language_info": {
      "name": "python"
    }
  },
  "cells": [
    {
      "cell_type": "markdown",
      "metadata": {
        "id": "view-in-github",
        "colab_type": "text"
      },
      "source": [
        "<a href=\"https://colab.research.google.com/github/Juanvargs/SYS/blob/main/midashboard.ipynb\" target=\"_parent\"><img src=\"https://colab.research.google.com/assets/colab-badge.svg\" alt=\"Open In Colab\"/></a>"
      ]
    },
    {
      "cell_type": "code",
      "source": [
        "!pip install streamlit librosa joblib pyngrok yt-dlp"
      ],
      "metadata": {
        "id": "4ZB5-1fcWxl8"
      },
      "execution_count": null,
      "outputs": []
    },
    {
      "cell_type": "code",
      "source": [
        "%%writefile app.py\n",
        "import streamlit as st\n",
        "import librosa\n",
        "import numpy as np\n",
        "import joblib\n",
        "import os\n",
        "import yt_dlp\n",
        "\n",
        "st.title(\"🎶 Detector de Género Musical: Reguetón vs Salsa\")\n",
        "\n",
        "modelo_path = \"reggaeton_vs_salsa.pkl\"\n",
        "\n",
        "# Verificación de modelo\n",
        "if not os.path.exists(modelo_path):\n",
        "    st.error(\"❌ No se encontró el archivo del modelo.\")\n",
        "    st.stop()\n",
        "\n",
        "# Cargar modelo\n",
        "modelo = joblib.load(modelo_path)\n",
        "st.success(\"✅ Modelo cargado correctamente.\")\n",
        "\n",
        "# Entrada del usuario\n",
        "url = st.text_input(\"🔗 Ingresa el enlace de la canción (YouTube):\")\n",
        "\n",
        "# Función para descargar MP3 desde YouTube\n",
        "def download_ytvid_as_mp3(video_url, name):\n",
        "    output_path = os.path.abspath(f\"{name}.mp3\")\n",
        "    options = {\n",
        "        'format': 'bestaudio/best',\n",
        "        'keepvideo': False,\n",
        "        'outtmpl': output_path,\n",
        "        'postprocessors': [{\n",
        "            'key': 'FFmpegExtractAudio',\n",
        "            'preferredcodec': 'mp3',\n",
        "            'preferredquality': '192',\n",
        "        }],\n",
        "    }\n",
        "\n",
        "    with yt_dlp.YoutubeDL(options) as ydl:\n",
        "        try:\n",
        "            ydl.download([video_url])\n",
        "            return output_path\n",
        "        except Exception as e:\n",
        "            st.error(f\"❌ Error descargando el audio: {e}\")\n",
        "            return None\n",
        "\n",
        "# Extraer MFCC\n",
        "def extraer_mfcc(file_path):\n",
        "    y, sr = librosa.load(file_path, sr=22050)\n",
        "    mfccs = librosa.feature.mfcc(y=y, sr=sr, n_mfcc=13)\n",
        "    return np.mean(mfccs.T, axis=0).reshape(1, -1)\n",
        "\n",
        "# Lógica principal\n",
        "if url:\n",
        "    with st.spinner(\"Descargando audio...\"):\n",
        "        mp3_path = download_ytvid_as_mp3(url, \"audio\")\n",
        "        if not mp3_path or not os.path.exists(mp3_path):\n",
        "            st.stop()\n",
        "\n",
        "    with st.spinner(\"Extrayendo características...\"):\n",
        "        try:\n",
        "            features = extraer_mfcc(mp3_path)\n",
        "        except Exception as e:\n",
        "            st.error(f\"❌ Error al procesar el audio: {e}\")\n",
        "            st.stop()\n",
        "\n",
        "    with st.spinner(\"Clasificando género musical...\"):\n",
        "        try:\n",
        "            pred = modelo.predict(features)[0]\n",
        "            clases = modelo.classes_\n",
        "            st.success(f\"🎵 Género detectado: **{clases[pred]}**\")\n",
        "        except Exception as e:\n",
        "            st.error(f\"❌ Error al clasificar: {e}\")\n"
      ],
      "metadata": {
        "id": "yjV_AXacWzl6"
      },
      "execution_count": null,
      "outputs": []
    },
    {
      "cell_type": "code",
      "source": [
        "# Paso 2: Autenticación de Ngrok con tu token\n",
        "from pyngrok import ngrok\n",
        "\n",
        "ngrok.set_auth_token(\"2y8ReOP8WVMANp23qnojZmq2yH4_5dZ24aw6BG7qwRpf6TLbx\")\n",
        "print(\"✅ Authtoken de ngrok configurado.\")\n",
        "\n",
        "# Paso 3: Ejecutar Streamlit en segundo plano\n",
        "import threading\n",
        "import os\n",
        "import time\n",
        "\n",
        "def run_streamlit():\n",
        "    os.system(\"streamlit run app.py\")\n",
        "\n",
        "# Lanzar streamlit\n",
        "thread = threading.Thread(target=run_streamlit)\n",
        "thread.daemon = True\n",
        "thread.start()\n",
        "\n",
        "# Esperar a que streamlit arranque\n",
        "time.sleep(5)\n",
        "\n",
        "# Paso 4: Crear túnel ngrok al puerto 8501\n",
        "public_url = ngrok.connect(8501)\n",
        "print(f\"🚀 Tu app está disponible en:\\n{public_url}\")\n"
      ],
      "metadata": {
        "id": "pp2LBUqMW3F8"
      },
      "execution_count": null,
      "outputs": []
    }
  ]
}