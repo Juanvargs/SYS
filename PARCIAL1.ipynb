{
  "nbformat": 4,
  "nbformat_minor": 0,
  "metadata": {
    "colab": {
      "private_outputs": true,
      "provenance": [],
      "authorship_tag": "ABX9TyM345Gu4UGp4s6YSFbfF1ME",
      "include_colab_link": true
    },
    "kernelspec": {
      "name": "python3",
      "display_name": "Python 3"
    },
    "language_info": {
      "name": "python"
    }
  },
  "cells": [
    {
      "cell_type": "markdown",
      "metadata": {
        "id": "view-in-github",
        "colab_type": "text"
      },
      "source": [
        "<a href=\"https://colab.research.google.com/github/Juanvargs/SYS/blob/main/PARCIAL1.ipynb\" target=\"_parent\"><img src=\"https://colab.research.google.com/assets/colab-badge.svg\" alt=\"Open In Colab\"/></a>"
      ]
    },
    {
      "cell_type": "markdown",
      "source": [
        "Primer Punto"
      ],
      "metadata": {
        "id": "AdYK7hVrKCjI"
      }
    },
    {
      "cell_type": "code",
      "execution_count": null,
      "metadata": {
        "id": "CwPr8PsKtqu5"
      },
      "outputs": [],
      "source": [
        "import numpy as np\n",
        "import matplotlib.pyplot as plt\n",
        "\n",
        "# Período fundamental de la señal compuesta\n",
        "T_0 = 2*np.pi\n",
        "\n",
        "# Amplitudes\n",
        "A_1 = 20\n",
        "A_2 = 3\n",
        "A_3 = 2\n",
        "\n",
        "# Frecuencias angulares\n",
        "w1 = 7     # rad/s\n",
        "w2 = 5     # rad/s\n",
        "w3 = 10    # rad/s\n",
        "\n",
        "# Tiempo de simulación\n",
        "ti = -T_0\n",
        "tf = T_0\n",
        "\n",
        "# Frecuencia de muestreo: al menos el doble de la máxima frecuencia , teorama de Nyquist\n",
        "f_max = w3 / (2 * np.pi)  # 3.184 Hz\n",
        "Fs = 100\n",
        "Ts = 1 / Fs\n",
        "\n",
        "# Vector de tiempo\n",
        "tv = np.arange(ti, tf, Ts)\n",
        "\n",
        "# Construcción de la señal\n",
        "xv = A_1 * np.sin(w1 * tv - (np.pi)/2) - A_2 * np.cos(w2 * tv) + A_3 * np.cos(w3 * tv)\n",
        "\n",
        "# Graficar señal continua\n",
        "plt.figure(figsize=(12,6))\n",
        "plt.plot(tv, xv, 'b')\n",
        "plt.xlabel('Tiempo [s]')\n",
        "plt.ylabel('x(t)')\n",
        "plt.title('Señal compuesta muestreada')\n",
        "plt.grid(True)\n",
        "plt.show()\n"
      ]
    },
    {
      "cell_type": "code",
      "source": [
        "# Definir la función my_ceropen (cero y pendiente)\n",
        "def my_ceropen(x, ymin=0, ymax=200):\n",
        "  xmax = max(x)\n",
        "  xmin = min(x)\n",
        "  m = (ymax - ymin) / (xmax - xmin)\n",
        "  c = ymin - m * xmin\n",
        "  yv = m * x + c\n",
        "  return yv\n",
        "\n",
        "\n",
        "  #cero y pendiente\n",
        "x = my_ceropen(xv, ymin=-3.3,ymax=3.3)\n",
        "\n",
        "\n",
        "#número de bits y vector de cuantización\n",
        "nbits = 5\n",
        "rmin = -3.3\n",
        "rmax = 5\n",
        "ve = np.linspace(rmin,rmax,2**nbits) # (rmax-rmin)/(2^#bits - 1) -> si se quiere incluir rmin y rmax\n",
        "from scipy.spatial.distance import cdist\n",
        "\n",
        "\n",
        "# Función de cuantización\n",
        "def my_cuantizador(yn, vq):\n",
        "  dn = cdist(np.array(yn).reshape(-1, 1), vq.reshape(-1, 1))\n",
        "  ind = np.argmin(dn, axis=1)\n",
        "  return vq[ind]\n",
        "\n",
        "# Cuantizar la señal\n",
        "yq = np.zeros_like(x)\n",
        "for i in range(len(x)):\n",
        "  yq[i] = my_cuantizador(x[i], ve)\n",
        "\n",
        "# Graficar\n",
        "plt.figure(figsize=(12,6))\n",
        "\n",
        "#graficar señales\n",
        "\n",
        "plt.plot(tv,x,c='r', label='continua')#cs continua\n",
        "\n",
        "plt.stem(tv,x,label='discreta')#cs discreta\n",
        "\n",
        "#estados de cuantización\n",
        "\n",
        "for v in ve:\n",
        "  plt.plot(tv,v*np.ones(len(tv)))\n",
        "\n",
        "# graficar señal Digital (discreta + cuantizada)\n",
        "\n",
        "plt.plot(tv,yq,c='y',marker='o',label='discreta + cuantizada', linewidth=2)\n",
        "\n",
        "plt.legend()\n",
        "plt.grid()\n",
        "plt.xlabel('t')\n",
        "plt.ylabel('Amplitud')\n",
        "plt.show()"
      ],
      "metadata": {
        "id": "H-BDwtgx0H4-"
      },
      "execution_count": null,
      "outputs": []
    },
    {
      "cell_type": "markdown",
      "source": [],
      "metadata": {
        "id": "JAoVykQaJ_B6"
      }
    },
    {
      "cell_type": "markdown",
      "source": [
        "SEGUNDO PUNTO"
      ],
      "metadata": {
        "id": "MFRYZISxILq8"
      }
    },
    {
      "cell_type": "code",
      "source": [
        "import numpy as np\n",
        "import matplotlib.pyplot as plt\n",
        "\n",
        "# Parámetros de la señal\n",
        "A1, A2, A3 = 3, 5, 10\n",
        "w1 = 1000 * np.pi   # 500 Hz\n",
        "w2 = 2000 * np.pi   # 1000 Hz\n",
        "w3 = 11000 * np.pi  # 5500 Hz\n",
        "\n",
        "# Intervalo de tiempo corto para visualización\n",
        "t_5k = np.arange(0, 0.005, 1/5000)\n",
        "t_12k = np.arange(0, 0.005, 1/12000)\n",
        "\n",
        "# Señal muestreada a 5 kHz (incluye aliasing)\n",
        "x_5k = A1 * np.cos(w1 * t_5k) + A2 * np.sin(w2 * t_5k) + A3 * np.cos(w3 * t_5k)\n",
        "\n",
        "# Señal muestreada a 12 kHz (sin componente de 5500 Hz por filtrado)\n",
        "x_12k = A1 * np.cos(w1 * t_12k) + A2 * np.sin(w2 * t_12k)\n",
        "\n",
        "# Graficar ambas señales\n",
        "plt.figure(figsize=(14, 6))\n",
        "\n",
        "plt.subplot(2,1,1)\n",
        "plt.stem(t_5k, x_5k, linefmt='r-', markerfmt='ro', basefmt='k-')\n",
        "plt.title('Señal muestreada a 5 kHz (CON aliasing)')\n",
        "plt.xlabel('Tiempo [s]')\n",
        "plt.ylabel('Amplitud')\n",
        "\n",
        "plt.subplot(2,1,2)\n",
        "plt.stem(t_12k, x_12k, linefmt='b-', markerfmt='bo', basefmt='k-')\n",
        "plt.title('Señal muestreada a 12 kHz (SIN aliasing, con filtrado anti-aliasing)')\n",
        "plt.xlabel('Tiempo [s]')\n",
        "plt.ylabel('Amplitud')\n",
        "\n",
        "plt.tight_layout()\n",
        "plt.show()\n"
      ],
      "metadata": {
        "id": "8u2XT5uVIF7v"
      },
      "execution_count": null,
      "outputs": []
    },
    {
      "cell_type": "markdown",
      "source": [
        "TERCER PUNTO"
      ],
      "metadata": {
        "id": "JZGIxIwvy0fM"
      }
    },
    {
      "cell_type": "code",
      "source": [
        "import matplotlib.pyplot as plt\n",
        "import numpy as np\n",
        "W0=2\n",
        "T0= 2*np.pi/W0\n",
        "N=1000\n",
        "t= np.linspace(0, T0, N)\n",
        "x1 = np.cos(W0*t)\n",
        "\n",
        "T=T0\n",
        "\n",
        "def x2(t_local, T):\n",
        "    \"\"\"Define x2 en un solo período entre 0 y T\"\"\"\n",
        "    if 0 <= t_local < T/4:\n",
        "        return 1\n",
        "    elif T/4 <= t_local < 3*T/4:\n",
        "        return -1\n",
        "    elif 3*T/4 <= t_local < T:\n",
        "        return 1\n",
        "    else:\n",
        "        return 0\n",
        "\n",
        "# Vectorizar x2 para varios períodos\n",
        "x2 = np.array([x2(ti % T, T) for ti in t])\n",
        "\n",
        "# Graficar\n",
        "plt.figure(figsize=(12, 6))\n",
        "\n",
        "# Señal x1(t)\n",
        "plt.subplot(2, 1, 1)\n",
        "plt.plot(t, x1, label=r'$x_1(t) = \\cos(\\omega_0 t)$')\n",
        "plt.title(\"Señal x₁(t) = cos(ω₀t)\")\n",
        "plt.grid(True)\n",
        "plt.legend()\n",
        "\n",
        "# Señal x2(t)\n",
        "\n",
        "plt.subplot(2, 1, 2)\n",
        "plt.plot(t, x2, color='orange', label=r'$x_2(t)$')\n",
        "plt.title(\"Señal x₂(t): señal periódica por tramos\")\n",
        "plt.grid(True)\n",
        "plt.legend()\n",
        "\n",
        "plt.tight_layout()\n",
        "plt.show()\n"
      ],
      "metadata": {
        "id": "mKwnZ1D7y4qQ"
      },
      "execution_count": null,
      "outputs": []
    },
    {
      "cell_type": "code",
      "source": [
        "from sympy import *\n",
        "\n",
        "# Variables simbólicas\n",
        "t, T0, A = symbols('t T0 A', real=True, positive=True)\n",
        "w0 = 2 * pi / T0\n",
        "\n",
        "# Señal x1\n",
        "x1 = A*cos(w0 * t)\n",
        "\n",
        "# Señal x2 (con último tramo cerrado) para poder tener el mismo resultado calculado matemar\n",
        "x2 = Piecewise(\n",
        "    (1, (t >= 0) & (t < T0/4)),\n",
        "    (-1, (t >= T0/4) & (t < 3*T0/4)),\n",
        "    (1, (t >= 3*T0/4) & (t <= T0))  # <= T0\n",
        ")\n",
        "\n",
        "\n",
        "x = simplify((x1 - x2)**2)\n",
        "\n",
        "# Potencia media\n",
        "d = integrate(x, (t, 0, T0))/T0\n",
        "\n",
        "print(\"Distancia media entre x1 y x2:\")\n",
        "r = d.simplify()\n",
        "r\n"
      ],
      "metadata": {
        "id": "oXpDpMW8zeQu"
      },
      "execution_count": null,
      "outputs": []
    }
  ]
}