{
  "nbformat": 4,
  "nbformat_minor": 0,
  "metadata": {
    "colab": {
      "private_outputs": true,
      "provenance": [],
      "authorship_tag": "ABX9TyP5GKvxRH4+RMWVELYvgkKb",
      "include_colab_link": true
    },
    "kernelspec": {
      "name": "python3",
      "display_name": "Python 3"
    },
    "language_info": {
      "name": "python"
    }
  },
  "cells": [
    {
      "cell_type": "markdown",
      "metadata": {
        "id": "view-in-github",
        "colab_type": "text"
      },
      "source": [
        "<a href=\"https://colab.research.google.com/github/Juanvargs/SYS/blob/main/Taller2.ipynb\" target=\"_parent\"><img src=\"https://colab.research.google.com/assets/colab-badge.svg\" alt=\"Open In Colab\"/></a>"
      ]
    },
    {
      "cell_type": "code",
      "source": [],
      "metadata": {
        "id": "GbTaQoK4a1a5"
      },
      "execution_count": null,
      "outputs": []
    },
    {
      "cell_type": "markdown",
      "source": [
        "# Análisis de Fourier: Conceptos, Semejanzas y Diferencias\n",
        "\n",
        "## 1. Serie de Fourier\n",
        "\n",
        "La **Serie de Fourier** permite representar señales **periódicas** como una suma infinita de senos y cosenos, o de exponenciales complejos. Existen tres formas equivalentes:\n",
        "\n",
        "### a) Forma trigonométrica\n",
        "\n",
        "\\[\n",
        "x(t) = a_0 + \\sum_{n=1}^{\\infty} \\left[ a_n \\cos(n \\omega_0 t) + b_n \\sin(n \\omega_0 t) \\right]\n",
        "\\]\n",
        "\n",
        "donde:\n",
        "\n",
        "- \\( a_0 \\) es el valor promedio de la señal.\n",
        "- \\( a_n \\) y \\( b_n \\) son los coeficientes de las componentes armónicas.\n",
        "- \\( \\omega_0 = \\frac{2\\pi}{T} \\) es la frecuencia fundamental.\n",
        "\n",
        "### b) Forma exponencial\n",
        "\n",
        "\\[\n",
        "x(t) = \\sum_{n=-\\infty}^{\\infty} C_n e^{j n \\omega_0 t}\n",
        "\\]\n",
        "\n",
        "donde \\( C_n \\) son coeficientes complejos.\n",
        "\n",
        "### c) Forma compacta\n",
        "\n",
        "\\[\n",
        "x(t) = a_0 + \\sum_{n=1}^{\\infty} A_n \\sin(n \\omega_0 t + \\phi_n)\n",
        "\\]\n",
        "\n",
        "donde \\( A_n \\) es la amplitud de cada armónico y \\( \\phi_n \\) su fase.\n",
        "\n",
        "---\n",
        "\n",
        "## 2. Transformada de Fourier (FT)\n",
        "\n",
        "Extiende la Serie de Fourier para señales **aperiódicas**, mediante una integral continua:\n",
        "\n",
        "\\[\n",
        "X(f) = \\int_{-\\infty}^{\\infty} x(t) e^{-j 2 \\pi f t} \\, dt\n",
        "\\]\n",
        "\n",
        "La transformada inversa es:\n",
        "\n",
        "\\[\n",
        "x(t) = \\int_{-\\infty}^{\\infty} X(f) e^{j 2 \\pi f t} \\, df\n",
        "\\]\n",
        "\n",
        "---\n",
        "\n",
        "## 3. Transformada de Fourier en Tiempo Discreto (DTFT)\n",
        "\n",
        "Para señales **discretas e infinitas**, se usa la DTFT:\n",
        "\n",
        "\\[\n",
        "X(e^{j\\omega}) = \\sum_{n=-\\infty}^{\\infty} x[n] e^{-j \\omega n}\n",
        "\\]\n",
        "\n",
        "Y su transformada inversa:\n",
        "\n",
        "\\[\n",
        "x[n] = \\frac{1}{2\\pi} \\int_{-\\pi}^{\\pi} X(e^{j\\omega}) e^{j \\omega n} \\, d\\omega\n",
        "\\]\n",
        "\n",
        "---\n",
        "\n",
        "## 4. Transformada Discreta de Fourier (DFT)\n",
        "\n",
        "Para secuencias **discretas y de longitud finita \\( N \\)**, se emplea la DFT:\n",
        "\n",
        "\\[\n",
        "X[k] = \\sum_{n=0}^{N-1} x[n] e^{-j \\frac{2\\pi}{N} k n}\n",
        "\\]\n",
        "\n",
        "Y su transformada inversa:\n",
        "\n",
        "\\[\n",
        "x[n] = \\frac{1}{N} \\sum_{k=0}^{N-1} X[k] e^{j \\frac{2\\pi}{N} k n}\n",
        "\\]\n",
        "\n",
        "---\n",
        "\n",
        "## 5. Comparación General\n",
        "\n",
        "| Concepto                  | Señales            | Tiempo            | Frecuencia               | Transformada        | Continuidad en frecuencia |\n",
        "|:--------------------------|:------------------|:------------------|:-------------------------|:-------------------|:--------------------------|\n",
        "| Serie de Fourier           | Periódicas         | Continua           | Discreta (armónicos)      | Suma infinita       | Discreta                   |\n",
        "| Transformada de Fourier (FT) | Aperiódicas        | Continua           | Continua                  | Integral            | Continua                   |\n",
        "| DTFT                       | Discretas infinitas | Discreta            | Continua (periódica)      | Suma infinita       | Continua                   |\n",
        "| DFT                        | Discretas finitas   | Discreta (finita)   | Discreta (finita)         | Suma finita         | Discreta                   |\n",
        "\n"
      ],
      "metadata": {
        "id": "SzdTIDLBezQK"
      }
    }
  ]
}