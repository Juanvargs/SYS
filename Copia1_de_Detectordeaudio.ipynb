{
  "nbformat": 4,
  "nbformat_minor": 0,
  "metadata": {
    "colab": {
      "private_outputs": true,
      "provenance": [],
      "mount_file_id": "101xdTgOuWxa00NpKR6flcNTuTjp_mDCZ",
      "authorship_tag": "ABX9TyOAYc/GhSUSusZXE+i1YjHP",
      "include_colab_link": true
    },
    "kernelspec": {
      "name": "python3",
      "display_name": "Python 3"
    },
    "language_info": {
      "name": "python"
    }
  },
  "cells": [
    {
      "cell_type": "markdown",
      "metadata": {
        "id": "view-in-github",
        "colab_type": "text"
      },
      "source": [
        "<a href=\"https://colab.research.google.com/github/Juanvargs/SYS/blob/main/Copia1_de_Detectordeaudio.ipynb\" target=\"_parent\"><img src=\"https://colab.research.google.com/assets/colab-badge.svg\" alt=\"Open In Colab\"/></a>"
      ]
    },
    {
      "cell_type": "code",
      "source": [
        "!pip install streamlit librosa joblib pyngrok yt-dlp gdown"
      ],
      "metadata": {
        "id": "21AWeW6J0YCu"
      },
      "execution_count": null,
      "outputs": []
    },
    {
      "cell_type": "code",
      "source": [
        "%%writefile app.py\n",
        "import streamlit as st\n",
        "import librosa\n",
        "import librosa.display\n",
        "import numpy as np\n",
        "import joblib\n",
        "import os\n",
        "import yt_dlp\n",
        "import gdown  # Para descargar desde Google Drive\n",
        "import matplotlib.pyplot as plt\n",
        "\n",
        "#https://drive.google.com/file/d/12IPvTtEBg0joAP4MseWcR8oiQLr0raT6/view?hechoporjuanpablovargasusp=sharing\n",
        "\n",
        "st.set_page_config(page_title=\"Detector de Género Musical\")\n",
        "st.title(\" Detector de Género Musical: Reguetón vs Salsa\")\n",
        "\n",
        "# 🔗 ID del archivo en Google Drive\n",
        "FILE_ID = \"12IPvTtEBg0joAP4MseWcR8oiQLr0raT6\"\n",
        "modelo_path = \"/content/reggaeton_vs_salsa.pkl\"\n",
        "\n",
        "#  Descargar modelo si no existe localmente\n",
        "if not os.path.exists(modelo_path):\n",
        "    try:\n",
        "        st.info(\"📥 Descargando modelo desde Google Drive...\")\n",
        "        gdown.download(f\"https://drive.google.com/uc?id={FILE_ID}\", modelo_path, quiet=False)\n",
        "    except Exception as e:\n",
        "        st.error(f\"Error descargando el modelo: {e}\")\n",
        "        st.stop()\n",
        "\n",
        "#  Cargar modelo\n",
        "try:\n",
        "    modelo_dict = joblib.load(modelo_path)\n",
        "    modelo = modelo_dict['modelo'] if isinstance(modelo_dict, dict) else modelo_dict\n",
        "    st.success(\"Modelo cargado correctamente.\")\n",
        "except Exception as e:\n",
        "    st.error(f\"Error cargando el modelo: {e}\")\n",
        "    st.stop()\n",
        "\n",
        "# Descargar audio desde YouTube como MP3\n",
        "def download_ytvid_as_mp3(video_url, name):\n",
        "    output = f\"/content/{name}\"\n",
        "    options = {\n",
        "        'format': 'bestaudio/best',\n",
        "        'outtmpl': output,\n",
        "        'postprocessors': [{\n",
        "            'key': 'FFmpegExtractAudio',\n",
        "            'preferredcodec': 'mp3',\n",
        "            'preferredquality': '192',\n",
        "        }],\n",
        "    }\n",
        "    with yt_dlp.YoutubeDL(options) as ydl:\n",
        "        try:\n",
        "            ydl.download([video_url])\n",
        "            final_path = f\"{output}.mp3\"\n",
        "            return final_path if os.path.exists(final_path) else None\n",
        "        except Exception as e:\n",
        "            st.error(f\"Error al descargar audio: {e}\")\n",
        "            return None\n",
        "\n",
        "# 🎛️ Extraer características (FFT normalizada)\n",
        "def extraer_fft(file_path):\n",
        "    try:\n",
        "        y, sr = librosa.load(file_path, sr=22050)\n",
        "        fft = np.abs(np.fft.fft(y))\n",
        "        fft = fft[:len(fft)//2]\n",
        "\n",
        "        # Normalizar como en el entrenamiento\n",
        "        if np.max(fft) != 0:\n",
        "            fft = fft / np.max(fft)\n",
        "\n",
        "        if len(fft) < 120001:\n",
        "            fft = np.pad(fft, (0, 120001 - len(fft)), mode='constant')\n",
        "        else:\n",
        "            fft = fft[:120001]\n",
        "\n",
        "        return fft.reshape(1, -1), y, sr  # ← también retornamos la señal y sr\n",
        "    except Exception as e:\n",
        "        st.error(f\"Error al procesar el audio: {e}\")\n",
        "        return None, None, None\n",
        "\n",
        "# Diccionario de clases\n",
        "CLASES = {\n",
        "    1.0: \"Reguetón\",\n",
        "    2.0: \"Salsa\"\n",
        "}\n",
        "\n",
        "# Entrada del usuario\n",
        "url = st.text_input(\" Ingresa el enlace de la canción (YouTube):\")\n",
        "\n",
        "if url:\n",
        "    with st.spinner(\"descargando audio...\"):\n",
        "        mp3_file = download_ytvid_as_mp3(url, \"audio\")\n",
        "        if not mp3_file:\n",
        "            st.error(\"❌ El archivo MP3 no fue encontrado después de la descarga.\")\n",
        "            st.stop()\n",
        "\n",
        "\n",
        "    with st.spinner(\"🔍 Clasificando género musical...\"):\n",
        "        try:\n",
        "            pred = modelo.predict(features)[0]\n",
        "            genero = CLASES.get(pred, \"Desconocido\")\n",
        "            st.success(f\"🎵 Género detectado: **{genero}**\")\n",
        "        except Exception as e:\n",
        "            st.error(f\"❌ Error al clasificar: {e}\")\n"
      ],
      "metadata": {
        "id": "glREUOzV7o2y"
      },
      "execution_count": null,
      "outputs": []
    },
    {
      "cell_type": "code",
      "source": [
        "#### ACA DIGALE A CHAT GPT QUE LE ENSEÑE COMO CREAR EL AUTOKHEN DE NGROK Y QUE LUEGO POR MEDIO DE SE LE DE EL CODIGO PARA PUBLICAR LA URL DE LA APP###"
      ],
      "metadata": {
        "id": "rGaGyc8BrKyM"
      },
      "execution_count": null,
      "outputs": []
    }
  ]
}